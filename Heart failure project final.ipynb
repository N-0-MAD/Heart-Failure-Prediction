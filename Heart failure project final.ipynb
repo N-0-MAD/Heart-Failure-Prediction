{
 "cells": [
  {
   "cell_type": "code",
   "execution_count": 2,
   "id": "cefa9dd2",
   "metadata": {},
   "outputs": [],
   "source": [
    "import numpy as np\n",
    "import pandas as pd\n",
    "from sklearn.model_selection import train_test_split\n",
    "from sklearn.linear_model import LogisticRegression\n",
    "from sklearn.metrics import accuracy_score\n",
    "\n"
   ]
  },
  {
   "cell_type": "code",
   "execution_count": 3,
   "id": "fae3840b",
   "metadata": {},
   "outputs": [],
   "source": [
    "heart_failure= pd.read_csv(\"heart_failure_clinical_records_dataset (1).csv\")"
   ]
  },
  {
   "cell_type": "code",
   "execution_count": 4,
   "id": "b908c344",
   "metadata": {},
   "outputs": [
    {
     "data": {
      "text/html": [
       "<div>\n",
       "<style scoped>\n",
       "    .dataframe tbody tr th:only-of-type {\n",
       "        vertical-align: middle;\n",
       "    }\n",
       "\n",
       "    .dataframe tbody tr th {\n",
       "        vertical-align: top;\n",
       "    }\n",
       "\n",
       "    .dataframe thead th {\n",
       "        text-align: right;\n",
       "    }\n",
       "</style>\n",
       "<table border=\"1\" class=\"dataframe\">\n",
       "  <thead>\n",
       "    <tr style=\"text-align: right;\">\n",
       "      <th></th>\n",
       "      <th>age</th>\n",
       "      <th>anaemia</th>\n",
       "      <th>creatinine_phosphokinase</th>\n",
       "      <th>diabetes</th>\n",
       "      <th>ejection_fraction</th>\n",
       "      <th>high_blood_pressure</th>\n",
       "      <th>platelets</th>\n",
       "      <th>serum_creatinine</th>\n",
       "      <th>serum_sodium</th>\n",
       "      <th>sex</th>\n",
       "      <th>smoking</th>\n",
       "      <th>time</th>\n",
       "      <th>DEATH_EVENT</th>\n",
       "    </tr>\n",
       "  </thead>\n",
       "  <tbody>\n",
       "    <tr>\n",
       "      <th>0</th>\n",
       "      <td>75.0</td>\n",
       "      <td>0</td>\n",
       "      <td>582</td>\n",
       "      <td>0</td>\n",
       "      <td>20</td>\n",
       "      <td>1</td>\n",
       "      <td>265000.00</td>\n",
       "      <td>1.9</td>\n",
       "      <td>130</td>\n",
       "      <td>1</td>\n",
       "      <td>0</td>\n",
       "      <td>4</td>\n",
       "      <td>1</td>\n",
       "    </tr>\n",
       "    <tr>\n",
       "      <th>1</th>\n",
       "      <td>55.0</td>\n",
       "      <td>0</td>\n",
       "      <td>7861</td>\n",
       "      <td>0</td>\n",
       "      <td>38</td>\n",
       "      <td>0</td>\n",
       "      <td>263358.03</td>\n",
       "      <td>1.1</td>\n",
       "      <td>136</td>\n",
       "      <td>1</td>\n",
       "      <td>0</td>\n",
       "      <td>6</td>\n",
       "      <td>1</td>\n",
       "    </tr>\n",
       "    <tr>\n",
       "      <th>2</th>\n",
       "      <td>65.0</td>\n",
       "      <td>0</td>\n",
       "      <td>146</td>\n",
       "      <td>0</td>\n",
       "      <td>20</td>\n",
       "      <td>0</td>\n",
       "      <td>162000.00</td>\n",
       "      <td>1.3</td>\n",
       "      <td>129</td>\n",
       "      <td>1</td>\n",
       "      <td>1</td>\n",
       "      <td>7</td>\n",
       "      <td>1</td>\n",
       "    </tr>\n",
       "    <tr>\n",
       "      <th>3</th>\n",
       "      <td>50.0</td>\n",
       "      <td>1</td>\n",
       "      <td>111</td>\n",
       "      <td>0</td>\n",
       "      <td>20</td>\n",
       "      <td>0</td>\n",
       "      <td>210000.00</td>\n",
       "      <td>1.9</td>\n",
       "      <td>137</td>\n",
       "      <td>1</td>\n",
       "      <td>0</td>\n",
       "      <td>7</td>\n",
       "      <td>1</td>\n",
       "    </tr>\n",
       "    <tr>\n",
       "      <th>4</th>\n",
       "      <td>65.0</td>\n",
       "      <td>1</td>\n",
       "      <td>160</td>\n",
       "      <td>1</td>\n",
       "      <td>20</td>\n",
       "      <td>0</td>\n",
       "      <td>327000.00</td>\n",
       "      <td>2.7</td>\n",
       "      <td>116</td>\n",
       "      <td>0</td>\n",
       "      <td>0</td>\n",
       "      <td>8</td>\n",
       "      <td>1</td>\n",
       "    </tr>\n",
       "    <tr>\n",
       "      <th>...</th>\n",
       "      <td>...</td>\n",
       "      <td>...</td>\n",
       "      <td>...</td>\n",
       "      <td>...</td>\n",
       "      <td>...</td>\n",
       "      <td>...</td>\n",
       "      <td>...</td>\n",
       "      <td>...</td>\n",
       "      <td>...</td>\n",
       "      <td>...</td>\n",
       "      <td>...</td>\n",
       "      <td>...</td>\n",
       "      <td>...</td>\n",
       "    </tr>\n",
       "    <tr>\n",
       "      <th>294</th>\n",
       "      <td>62.0</td>\n",
       "      <td>0</td>\n",
       "      <td>61</td>\n",
       "      <td>1</td>\n",
       "      <td>38</td>\n",
       "      <td>1</td>\n",
       "      <td>155000.00</td>\n",
       "      <td>1.1</td>\n",
       "      <td>143</td>\n",
       "      <td>1</td>\n",
       "      <td>1</td>\n",
       "      <td>270</td>\n",
       "      <td>0</td>\n",
       "    </tr>\n",
       "    <tr>\n",
       "      <th>295</th>\n",
       "      <td>55.0</td>\n",
       "      <td>0</td>\n",
       "      <td>1820</td>\n",
       "      <td>0</td>\n",
       "      <td>38</td>\n",
       "      <td>0</td>\n",
       "      <td>270000.00</td>\n",
       "      <td>1.2</td>\n",
       "      <td>139</td>\n",
       "      <td>0</td>\n",
       "      <td>0</td>\n",
       "      <td>271</td>\n",
       "      <td>0</td>\n",
       "    </tr>\n",
       "    <tr>\n",
       "      <th>296</th>\n",
       "      <td>45.0</td>\n",
       "      <td>0</td>\n",
       "      <td>2060</td>\n",
       "      <td>1</td>\n",
       "      <td>60</td>\n",
       "      <td>0</td>\n",
       "      <td>742000.00</td>\n",
       "      <td>0.8</td>\n",
       "      <td>138</td>\n",
       "      <td>0</td>\n",
       "      <td>0</td>\n",
       "      <td>278</td>\n",
       "      <td>0</td>\n",
       "    </tr>\n",
       "    <tr>\n",
       "      <th>297</th>\n",
       "      <td>45.0</td>\n",
       "      <td>0</td>\n",
       "      <td>2413</td>\n",
       "      <td>0</td>\n",
       "      <td>38</td>\n",
       "      <td>0</td>\n",
       "      <td>140000.00</td>\n",
       "      <td>1.4</td>\n",
       "      <td>140</td>\n",
       "      <td>1</td>\n",
       "      <td>1</td>\n",
       "      <td>280</td>\n",
       "      <td>0</td>\n",
       "    </tr>\n",
       "    <tr>\n",
       "      <th>298</th>\n",
       "      <td>50.0</td>\n",
       "      <td>0</td>\n",
       "      <td>196</td>\n",
       "      <td>0</td>\n",
       "      <td>45</td>\n",
       "      <td>0</td>\n",
       "      <td>395000.00</td>\n",
       "      <td>1.6</td>\n",
       "      <td>136</td>\n",
       "      <td>1</td>\n",
       "      <td>1</td>\n",
       "      <td>285</td>\n",
       "      <td>0</td>\n",
       "    </tr>\n",
       "  </tbody>\n",
       "</table>\n",
       "<p>299 rows × 13 columns</p>\n",
       "</div>"
      ],
      "text/plain": [
       "      age  anaemia  creatinine_phosphokinase  diabetes  ejection_fraction  \\\n",
       "0    75.0        0                       582         0                 20   \n",
       "1    55.0        0                      7861         0                 38   \n",
       "2    65.0        0                       146         0                 20   \n",
       "3    50.0        1                       111         0                 20   \n",
       "4    65.0        1                       160         1                 20   \n",
       "..    ...      ...                       ...       ...                ...   \n",
       "294  62.0        0                        61         1                 38   \n",
       "295  55.0        0                      1820         0                 38   \n",
       "296  45.0        0                      2060         1                 60   \n",
       "297  45.0        0                      2413         0                 38   \n",
       "298  50.0        0                       196         0                 45   \n",
       "\n",
       "     high_blood_pressure  platelets  serum_creatinine  serum_sodium  sex  \\\n",
       "0                      1  265000.00               1.9           130    1   \n",
       "1                      0  263358.03               1.1           136    1   \n",
       "2                      0  162000.00               1.3           129    1   \n",
       "3                      0  210000.00               1.9           137    1   \n",
       "4                      0  327000.00               2.7           116    0   \n",
       "..                   ...        ...               ...           ...  ...   \n",
       "294                    1  155000.00               1.1           143    1   \n",
       "295                    0  270000.00               1.2           139    0   \n",
       "296                    0  742000.00               0.8           138    0   \n",
       "297                    0  140000.00               1.4           140    1   \n",
       "298                    0  395000.00               1.6           136    1   \n",
       "\n",
       "     smoking  time  DEATH_EVENT  \n",
       "0          0     4            1  \n",
       "1          0     6            1  \n",
       "2          1     7            1  \n",
       "3          0     7            1  \n",
       "4          0     8            1  \n",
       "..       ...   ...          ...  \n",
       "294        1   270            0  \n",
       "295        0   271            0  \n",
       "296        0   278            0  \n",
       "297        1   280            0  \n",
       "298        1   285            0  \n",
       "\n",
       "[299 rows x 13 columns]"
      ]
     },
     "execution_count": 4,
     "metadata": {},
     "output_type": "execute_result"
    }
   ],
   "source": [
    "heart_failure"
   ]
  },
  {
   "cell_type": "code",
   "execution_count": 5,
   "id": "8f4e42df",
   "metadata": {
    "scrolled": true
   },
   "outputs": [
    {
     "data": {
      "text/html": [
       "<div>\n",
       "<style scoped>\n",
       "    .dataframe tbody tr th:only-of-type {\n",
       "        vertical-align: middle;\n",
       "    }\n",
       "\n",
       "    .dataframe tbody tr th {\n",
       "        vertical-align: top;\n",
       "    }\n",
       "\n",
       "    .dataframe thead th {\n",
       "        text-align: right;\n",
       "    }\n",
       "</style>\n",
       "<table border=\"1\" class=\"dataframe\">\n",
       "  <thead>\n",
       "    <tr style=\"text-align: right;\">\n",
       "      <th></th>\n",
       "      <th>age</th>\n",
       "      <th>anaemia</th>\n",
       "      <th>creatinine_phosphokinase</th>\n",
       "      <th>diabetes</th>\n",
       "      <th>ejection_fraction</th>\n",
       "      <th>high_blood_pressure</th>\n",
       "      <th>platelets</th>\n",
       "      <th>serum_creatinine</th>\n",
       "      <th>serum_sodium</th>\n",
       "      <th>sex</th>\n",
       "      <th>smoking</th>\n",
       "      <th>time</th>\n",
       "      <th>DEATH_EVENT</th>\n",
       "    </tr>\n",
       "  </thead>\n",
       "  <tbody>\n",
       "    <tr>\n",
       "      <th>count</th>\n",
       "      <td>299.000000</td>\n",
       "      <td>299.000000</td>\n",
       "      <td>299.000000</td>\n",
       "      <td>299.000000</td>\n",
       "      <td>299.000000</td>\n",
       "      <td>299.000000</td>\n",
       "      <td>299.000000</td>\n",
       "      <td>299.00000</td>\n",
       "      <td>299.000000</td>\n",
       "      <td>299.000000</td>\n",
       "      <td>299.00000</td>\n",
       "      <td>299.000000</td>\n",
       "      <td>299.00000</td>\n",
       "    </tr>\n",
       "    <tr>\n",
       "      <th>mean</th>\n",
       "      <td>60.833893</td>\n",
       "      <td>0.431438</td>\n",
       "      <td>581.839465</td>\n",
       "      <td>0.418060</td>\n",
       "      <td>38.083612</td>\n",
       "      <td>0.351171</td>\n",
       "      <td>263358.029264</td>\n",
       "      <td>1.39388</td>\n",
       "      <td>136.625418</td>\n",
       "      <td>0.648829</td>\n",
       "      <td>0.32107</td>\n",
       "      <td>130.260870</td>\n",
       "      <td>0.32107</td>\n",
       "    </tr>\n",
       "    <tr>\n",
       "      <th>std</th>\n",
       "      <td>11.894809</td>\n",
       "      <td>0.496107</td>\n",
       "      <td>970.287881</td>\n",
       "      <td>0.494067</td>\n",
       "      <td>11.834841</td>\n",
       "      <td>0.478136</td>\n",
       "      <td>97804.236869</td>\n",
       "      <td>1.03451</td>\n",
       "      <td>4.412477</td>\n",
       "      <td>0.478136</td>\n",
       "      <td>0.46767</td>\n",
       "      <td>77.614208</td>\n",
       "      <td>0.46767</td>\n",
       "    </tr>\n",
       "    <tr>\n",
       "      <th>min</th>\n",
       "      <td>40.000000</td>\n",
       "      <td>0.000000</td>\n",
       "      <td>23.000000</td>\n",
       "      <td>0.000000</td>\n",
       "      <td>14.000000</td>\n",
       "      <td>0.000000</td>\n",
       "      <td>25100.000000</td>\n",
       "      <td>0.50000</td>\n",
       "      <td>113.000000</td>\n",
       "      <td>0.000000</td>\n",
       "      <td>0.00000</td>\n",
       "      <td>4.000000</td>\n",
       "      <td>0.00000</td>\n",
       "    </tr>\n",
       "    <tr>\n",
       "      <th>25%</th>\n",
       "      <td>51.000000</td>\n",
       "      <td>0.000000</td>\n",
       "      <td>116.500000</td>\n",
       "      <td>0.000000</td>\n",
       "      <td>30.000000</td>\n",
       "      <td>0.000000</td>\n",
       "      <td>212500.000000</td>\n",
       "      <td>0.90000</td>\n",
       "      <td>134.000000</td>\n",
       "      <td>0.000000</td>\n",
       "      <td>0.00000</td>\n",
       "      <td>73.000000</td>\n",
       "      <td>0.00000</td>\n",
       "    </tr>\n",
       "    <tr>\n",
       "      <th>50%</th>\n",
       "      <td>60.000000</td>\n",
       "      <td>0.000000</td>\n",
       "      <td>250.000000</td>\n",
       "      <td>0.000000</td>\n",
       "      <td>38.000000</td>\n",
       "      <td>0.000000</td>\n",
       "      <td>262000.000000</td>\n",
       "      <td>1.10000</td>\n",
       "      <td>137.000000</td>\n",
       "      <td>1.000000</td>\n",
       "      <td>0.00000</td>\n",
       "      <td>115.000000</td>\n",
       "      <td>0.00000</td>\n",
       "    </tr>\n",
       "    <tr>\n",
       "      <th>75%</th>\n",
       "      <td>70.000000</td>\n",
       "      <td>1.000000</td>\n",
       "      <td>582.000000</td>\n",
       "      <td>1.000000</td>\n",
       "      <td>45.000000</td>\n",
       "      <td>1.000000</td>\n",
       "      <td>303500.000000</td>\n",
       "      <td>1.40000</td>\n",
       "      <td>140.000000</td>\n",
       "      <td>1.000000</td>\n",
       "      <td>1.00000</td>\n",
       "      <td>203.000000</td>\n",
       "      <td>1.00000</td>\n",
       "    </tr>\n",
       "    <tr>\n",
       "      <th>max</th>\n",
       "      <td>95.000000</td>\n",
       "      <td>1.000000</td>\n",
       "      <td>7861.000000</td>\n",
       "      <td>1.000000</td>\n",
       "      <td>80.000000</td>\n",
       "      <td>1.000000</td>\n",
       "      <td>850000.000000</td>\n",
       "      <td>9.40000</td>\n",
       "      <td>148.000000</td>\n",
       "      <td>1.000000</td>\n",
       "      <td>1.00000</td>\n",
       "      <td>285.000000</td>\n",
       "      <td>1.00000</td>\n",
       "    </tr>\n",
       "  </tbody>\n",
       "</table>\n",
       "</div>"
      ],
      "text/plain": [
       "              age     anaemia  creatinine_phosphokinase    diabetes  \\\n",
       "count  299.000000  299.000000                299.000000  299.000000   \n",
       "mean    60.833893    0.431438                581.839465    0.418060   \n",
       "std     11.894809    0.496107                970.287881    0.494067   \n",
       "min     40.000000    0.000000                 23.000000    0.000000   \n",
       "25%     51.000000    0.000000                116.500000    0.000000   \n",
       "50%     60.000000    0.000000                250.000000    0.000000   \n",
       "75%     70.000000    1.000000                582.000000    1.000000   \n",
       "max     95.000000    1.000000               7861.000000    1.000000   \n",
       "\n",
       "       ejection_fraction  high_blood_pressure      platelets  \\\n",
       "count         299.000000           299.000000     299.000000   \n",
       "mean           38.083612             0.351171  263358.029264   \n",
       "std            11.834841             0.478136   97804.236869   \n",
       "min            14.000000             0.000000   25100.000000   \n",
       "25%            30.000000             0.000000  212500.000000   \n",
       "50%            38.000000             0.000000  262000.000000   \n",
       "75%            45.000000             1.000000  303500.000000   \n",
       "max            80.000000             1.000000  850000.000000   \n",
       "\n",
       "       serum_creatinine  serum_sodium         sex    smoking        time  \\\n",
       "count         299.00000    299.000000  299.000000  299.00000  299.000000   \n",
       "mean            1.39388    136.625418    0.648829    0.32107  130.260870   \n",
       "std             1.03451      4.412477    0.478136    0.46767   77.614208   \n",
       "min             0.50000    113.000000    0.000000    0.00000    4.000000   \n",
       "25%             0.90000    134.000000    0.000000    0.00000   73.000000   \n",
       "50%             1.10000    137.000000    1.000000    0.00000  115.000000   \n",
       "75%             1.40000    140.000000    1.000000    1.00000  203.000000   \n",
       "max             9.40000    148.000000    1.000000    1.00000  285.000000   \n",
       "\n",
       "       DEATH_EVENT  \n",
       "count    299.00000  \n",
       "mean       0.32107  \n",
       "std        0.46767  \n",
       "min        0.00000  \n",
       "25%        0.00000  \n",
       "50%        0.00000  \n",
       "75%        1.00000  \n",
       "max        1.00000  "
      ]
     },
     "execution_count": 5,
     "metadata": {},
     "output_type": "execute_result"
    }
   ],
   "source": [
    "heart_failure.describe()"
   ]
  },
  {
   "cell_type": "code",
   "execution_count": 6,
   "id": "424f0ff4",
   "metadata": {},
   "outputs": [
    {
     "name": "stdout",
     "output_type": "stream",
     "text": [
      "age                         float64\n",
      "anaemia                       int64\n",
      "creatinine_phosphokinase      int64\n",
      "diabetes                      int64\n",
      "ejection_fraction             int64\n",
      "high_blood_pressure           int64\n",
      "platelets                   float64\n",
      "serum_creatinine            float64\n",
      "serum_sodium                  int64\n",
      "sex                           int64\n",
      "smoking                       int64\n",
      "time                          int64\n",
      "DEATH_EVENT                   int64\n",
      "dtype: object\n"
     ]
    }
   ],
   "source": [
    "print(heart_failure.dtypes)"
   ]
  },
  {
   "cell_type": "code",
   "execution_count": 83,
   "id": "44420ce0",
   "metadata": {},
   "outputs": [
    {
     "name": "stdout",
     "output_type": "stream",
     "text": [
      "Categorical values: ['anaemia', 'diabetes', 'high_blood_pressure', 'sex', 'smoking', 'DEATH_EVENT']\n",
      "6\n"
     ]
    }
   ],
   "source": [
    "binary= [col for col in heart_failure.columns if heart_failure[col].nunique() == 2]\n",
    "print(\"Categorical values:\",binary)\n",
    "print(len(binary))"
   ]
  },
  {
   "cell_type": "code",
   "execution_count": 8,
   "id": "1012a032",
   "metadata": {},
   "outputs": [
    {
     "name": "stdout",
     "output_type": "stream",
     "text": [
      "<class 'pandas.core.frame.DataFrame'>\n",
      "RangeIndex: 299 entries, 0 to 298\n",
      "Data columns (total 13 columns):\n",
      " #   Column                    Non-Null Count  Dtype  \n",
      "---  ------                    --------------  -----  \n",
      " 0   age                       299 non-null    float64\n",
      " 1   anaemia                   299 non-null    int64  \n",
      " 2   creatinine_phosphokinase  299 non-null    int64  \n",
      " 3   diabetes                  299 non-null    int64  \n",
      " 4   ejection_fraction         299 non-null    int64  \n",
      " 5   high_blood_pressure       299 non-null    int64  \n",
      " 6   platelets                 299 non-null    float64\n",
      " 7   serum_creatinine          299 non-null    float64\n",
      " 8   serum_sodium              299 non-null    int64  \n",
      " 9   sex                       299 non-null    int64  \n",
      " 10  smoking                   299 non-null    int64  \n",
      " 11  time                      299 non-null    int64  \n",
      " 12  DEATH_EVENT               299 non-null    int64  \n",
      "dtypes: float64(3), int64(10)\n",
      "memory usage: 30.5 KB\n"
     ]
    }
   ],
   "source": [
    "heart_failure.info()"
   ]
  },
  {
   "cell_type": "code",
   "execution_count": 9,
   "id": "e956b5ac",
   "metadata": {},
   "outputs": [
    {
     "data": {
      "text/plain": [
       "'Age:\\n1)Mean age: 60.83 years\\nAge range: 40 to 95 years\\nThe standard deviation (11.89) suggests a moderate spread around the mean.\\n\\n2)Anaemia:\\nMean: 43% of the patients have anaemia.\\nStandard deviation: 0.50, reflecting the binary nature of the variable.\\n\\n3)Creatinine Phosphokinase:\\nMean: 581.84 units/L\\nRange: 23 to 7861 units/L\\nstandard deviation: (970.29) indicates a large variation in enzyme levels among patients.\\n\\n4)Diabetes:\\nMean: 42% of patients have diabetes.\\nStandard deviation: 0.49, consistent with the binary nature.\\n\\n5)Ejection Fraction:\\nMean: 38.08%\\nRange: 14% to 80%\\nStandard deviation: 11.83, indicating variation in heart pumping efficiency.\\n\\n6)High Blood Pressure:\\nMean: 35% of patients have high bp.\\n\\n7)Platelets:\\nRange: 25100 to 850000 platelets/mL\\nHigh standard deviation (97804), indicating significant variability in platelet counts.\\n\\n8)Serum Creatinine:\\nMean:1.39 mg/dL\\nRange:0.5 to 9.4 mg/dL\\nStandard deviation: 1.03, showing variability in kidney function.\\n\\n9)Serum Sodium:\\nMean: 136.63\\nRange: 113 to 148\\nStandard deviation: 4.41, relatively narrow range of serum sodium levels.\\n\\n10)Sex:\\nMean: 65% of the patients are male.\\n\\n11)Smoking:\\n32% smokers\\n\\n12)Time:\\nMean: 130.26 days\\nRange: 4 to 285 days\\nStandard deviation: 77.61, indicating variability\\n\\n13)Death event:\\n32% patients died\\n\\n'"
      ]
     },
     "execution_count": 9,
     "metadata": {},
     "output_type": "execute_result"
    }
   ],
   "source": [
    "#no missing values present\n",
    "#Out of 13 features 6 binary variables and 7 continuous variables present\n",
    "\"\"\"Age:\n",
    "1)Mean age: 60.83 years\n",
    "Age range: 40 to 95 years\n",
    "The standard deviation (11.89) suggests a moderate spread around the mean.\n",
    "\n",
    "2)Anaemia:\n",
    "Mean: 43% of the patients have anaemia.\n",
    "Standard deviation: 0.50, reflecting the binary nature of the variable.\n",
    "\n",
    "3)Creatinine Phosphokinase:\n",
    "Mean: 581.84 units/L\n",
    "Range: 23 to 7861 units/L\n",
    "standard deviation: (970.29) indicates a large variation in enzyme levels among patients.\n",
    "\n",
    "4)Diabetes:\n",
    "Mean: 42% of patients have diabetes.\n",
    "Standard deviation: 0.49, consistent with the binary nature.\n",
    "\n",
    "5)Ejection Fraction:\n",
    "Mean: 38.08%\n",
    "Range: 14% to 80%\n",
    "Standard deviation: 11.83, indicating variation in heart pumping efficiency.\n",
    "\n",
    "6)High Blood Pressure:\n",
    "Mean: 35% of patients have high bp.\n",
    "\n",
    "7)Platelets:\n",
    "Range: 25100 to 850000 platelets/mL\n",
    "High standard deviation (97804), indicating significant variability in platelet counts.\n",
    "\n",
    "8)Serum Creatinine:\n",
    "Mean:1.39 mg/dL\n",
    "Range:0.5 to 9.4 mg/dL\n",
    "Standard deviation: 1.03, showing variability in kidney function.\n",
    "\n",
    "9)Serum Sodium:\n",
    "Mean: 136.63\n",
    "Range: 113 to 148\n",
    "Standard deviation: 4.41, relatively narrow range of serum sodium levels.\n",
    "\n",
    "10)Sex:\n",
    "Mean: 65% of the patients are male.\n",
    "\n",
    "11)Smoking:\n",
    "32% smokers\n",
    "\n",
    "12)Time:\n",
    "Mean: 130.26 days\n",
    "Range: 4 to 285 days\n",
    "Standard deviation: 77.61, indicating variability\n",
    "\n",
    "13)Death event:\n",
    "32% patients died\n",
    "\n",
    "\"\"\"\n"
   ]
  },
  {
   "cell_type": "code",
   "execution_count": 10,
   "id": "b3306a6b",
   "metadata": {},
   "outputs": [],
   "source": [
    "#Rescaling data.It helps gradient descent to converge faster in logistic regression model.\n",
    "from sklearn.preprocessing import StandardScaler\n",
    "\n",
    "#Numerical features only\n",
    "features_to_standardize = ['age', 'creatinine_phosphokinase', 'ejection_fraction', \n",
    "                           'platelets', 'serum_creatinine', 'serum_sodium', 'time']\n",
    "scaler=StandardScaler()\n",
    "heart_failure[features_to_standardize]=scaler.fit_transform(heart_failure[features_to_standardize])"
   ]
  },
  {
   "cell_type": "code",
   "execution_count": 11,
   "id": "ca53e338",
   "metadata": {},
   "outputs": [
    {
     "name": "stdout",
     "output_type": "stream",
     "text": [
      "age                         1.600013\n",
      "anaemia                     1.000000\n",
      "creatinine_phosphokinase    0.480559\n",
      "diabetes                    1.000000\n",
      "ejection_fraction           1.269569\n",
      "high_blood_pressure         1.000000\n",
      "platelets                   0.931990\n",
      "serum_creatinine            0.484131\n",
      "serum_sodium                1.362060\n",
      "sex                         1.000000\n",
      "smoking                     1.000000\n",
      "time                        1.677759\n",
      "DEATH_EVENT                 1.000000\n",
      "dtype: float64\n"
     ]
    }
   ],
   "source": [
    "#outlier detection\n",
    "Q1=heart_failure.quantile(0.25)\n",
    "Q3=heart_failure.quantile(0.75)\n",
    "IQR=Q3-Q1\n",
    "print(IQR)"
   ]
  },
  {
   "cell_type": "code",
   "execution_count": 12,
   "id": "318db813",
   "metadata": {},
   "outputs": [
    {
     "name": "stdout",
     "output_type": "stream",
     "text": [
      "       age  anaemia  creatinine_phosphokinase  diabetes  ejection_fraction  \\\n",
      "0    False    False                     False     False              False   \n",
      "1    False    False                      True     False              False   \n",
      "2    False    False                     False     False              False   \n",
      "3    False    False                     False     False              False   \n",
      "4    False    False                     False     False              False   \n",
      "..     ...      ...                       ...       ...                ...   \n",
      "294  False    False                     False     False              False   \n",
      "295  False    False                      True     False              False   \n",
      "296  False    False                      True     False              False   \n",
      "297  False    False                      True     False              False   \n",
      "298  False    False                     False     False              False   \n",
      "\n",
      "     high_blood_pressure  platelets  serum_creatinine  serum_sodium    sex  \\\n",
      "0                  False      False             False         False  False   \n",
      "1                  False      False             False         False  False   \n",
      "2                  False      False             False         False  False   \n",
      "3                  False      False             False         False  False   \n",
      "4                  False      False              True          True  False   \n",
      "..                   ...        ...               ...           ...    ...   \n",
      "294                False      False             False         False  False   \n",
      "295                False      False             False         False  False   \n",
      "296                False       True             False         False  False   \n",
      "297                False      False             False         False  False   \n",
      "298                False      False             False         False  False   \n",
      "\n",
      "     smoking   time  DEATH_EVENT  \n",
      "0      False  False        False  \n",
      "1      False  False        False  \n",
      "2      False  False        False  \n",
      "3      False  False        False  \n",
      "4      False  False        False  \n",
      "..       ...    ...          ...  \n",
      "294    False  False        False  \n",
      "295    False  False        False  \n",
      "296    False  False        False  \n",
      "297    False  False        False  \n",
      "298    False  False        False  \n",
      "\n",
      "[299 rows x 13 columns]\n"
     ]
    }
   ],
   "source": [
    "print((heart_failure< (Q1-1.5*IQR))|(heart_failure> (Q3+1.5*IQR)))"
   ]
  },
  {
   "cell_type": "code",
   "execution_count": 13,
   "id": "03a68d1f",
   "metadata": {},
   "outputs": [
    {
     "data": {
      "text/plain": [
       "(224, 13)"
      ]
     },
     "execution_count": 13,
     "metadata": {},
     "output_type": "execute_result"
    }
   ],
   "source": [
    "heart_failure_out = heart_failure[~((heart_failure< (Q1 - 1.5 * IQR)) |(heart_failure > (Q3 + 1.5 * IQR))).any(axis=1)]\n",
    "heart_failure_out.shape\n"
   ]
  },
  {
   "cell_type": "code",
   "execution_count": 14,
   "id": "a15e94b1",
   "metadata": {},
   "outputs": [],
   "source": [
    "#75 datapoints are lost.That's huge relative to 299."
   ]
  },
  {
   "cell_type": "code",
   "execution_count": 15,
   "id": "ba2b01c4",
   "metadata": {},
   "outputs": [
    {
     "data": {
      "image/png": "[encoded data removed]",
      "text/plain": [
       "<Figure size 1200x800 with 2 Axes>"
      ]
     },
     "metadata": {},
     "output_type": "display_data"
    }
   ],
   "source": [
    "#correlation analysis\n",
    "import seaborn as sns\n",
    "import matplotlib.pyplot as plt\n",
    "corr_matrix= heart_failure.corr()\n",
    "plt.figure(figsize=(12, 8))\n",
    "sns.heatmap(corr_matrix, annot=True, cmap='coolwarm', fmt='.2f')\n",
    "plt.title('Correlation Matrix')\n",
    "plt.show()"
   ]
  },
  {
   "cell_type": "code",
   "execution_count": 16,
   "id": "0e0ea450",
   "metadata": {},
   "outputs": [
    {
     "name": "stdout",
     "output_type": "stream",
     "text": [
      "Correlation with DEATH_EVENT:\n",
      " DEATH_EVENT                 1.000000\n",
      "serum_creatinine            0.294278\n",
      "age                         0.253729\n",
      "high_blood_pressure         0.079351\n",
      "anaemia                     0.066270\n",
      "creatinine_phosphokinase    0.062728\n",
      "diabetes                   -0.001943\n",
      "sex                        -0.004316\n",
      "smoking                    -0.012623\n",
      "platelets                  -0.049139\n",
      "serum_sodium               -0.195204\n",
      "ejection_fraction          -0.268603\n",
      "time                       -0.526964\n",
      "Name: DEATH_EVENT, dtype: float64\n"
     ]
    }
   ],
   "source": [
    "corr_with_target= corr_matrix['DEATH_EVENT'].sort_values(ascending=False)\n",
    "print(\"Correlation with DEATH_EVENT:\\n\", corr_with_target)"
   ]
  },
  {
   "cell_type": "code",
   "execution_count": 17,
   "id": "403683a4",
   "metadata": {},
   "outputs": [],
   "source": [
    "#It seems that smoking and sex have significant dependency(0.47) on each other. It may cause redundancy.\n",
    "#We may create a new feature called sex_smoking_rel having binary values with male smokers and female non-smokers as 1 and rest as 0.\n",
    "#But I feel that generally smoking is prevalent in men, so it may be due to that we see a higher correlation. \n",
    "#Doing feature engineering here may cause overfitting."
   ]
  },
  {
   "cell_type": "code",
   "execution_count": 18,
   "id": "80f47c73",
   "metadata": {},
   "outputs": [
    {
     "data": {
      "text/plain": [
       "<Axes: xlabel='age'>"
      ]
     },
     "execution_count": 18,
     "metadata": {},
     "output_type": "execute_result"
    },
    {
     "data": {
      "image/png": "[encoded data removed]",
      "text/plain": [
       "<Figure size 640x480 with 1 Axes>"
      ]
     },
     "metadata": {},
     "output_type": "display_data"
    }
   ],
   "source": [
    "import seaborn as sns\n",
    "sns.boxplot(x=heart_failure['age'])"
   ]
  },
  {
   "cell_type": "code",
   "execution_count": 19,
   "id": "07006f53",
   "metadata": {},
   "outputs": [
    {
     "data": {
      "text/plain": [
       "<Axes: xlabel='creatinine_phosphokinase'>"
      ]
     },
     "execution_count": 19,
     "metadata": {},
     "output_type": "execute_result"
    },
    {
     "data": {
      "image/png": "[encoded data removed]",
      "text/plain": [
       "<Figure size 640x480 with 1 Axes>"
      ]
     },
     "metadata": {},
     "output_type": "display_data"
    }
   ],
   "source": [
    "sns.boxplot(x=heart_failure['creatinine_phosphokinase'])"
   ]
  },
  {
   "cell_type": "code",
   "execution_count": 20,
   "id": "7642687b",
   "metadata": {},
   "outputs": [],
   "source": [
    "#Too many outliers. Correlation of creatinine phosphate with target: 0.05. Hence this feature can be drpped."
   ]
  },
  {
   "cell_type": "code",
   "execution_count": 21,
   "id": "f00b1c53",
   "metadata": {},
   "outputs": [
    {
     "data": {
      "text/plain": [
       "<Axes: xlabel='ejection_fraction'>"
      ]
     },
     "execution_count": 21,
     "metadata": {},
     "output_type": "execute_result"
    },
    {
     "data": {
      "image/png": "[encoded data removed]",
      "text/plain": [
       "<Figure size 640x480 with 1 Axes>"
      ]
     },
     "metadata": {},
     "output_type": "display_data"
    }
   ],
   "source": [
    "sns.boxplot(x=heart_failure['ejection_fraction'])\n",
    "#only two outliers. Acceptable."
   ]
  },
  {
   "cell_type": "code",
   "execution_count": 82,
   "id": "d87c6cc9",
   "metadata": {},
   "outputs": [
    {
     "data": {
      "text/plain": [
       "<Axes: xlabel='platelets'>"
      ]
     },
     "execution_count": 82,
     "metadata": {},
     "output_type": "execute_result"
    },
    {
     "data": {
      "image/png": "[encoded data removed]",
      "text/plain": [
       "<Figure size 640x480 with 1 Axes>"
      ]
     },
     "metadata": {},
     "output_type": "display_data"
    }
   ],
   "source": [
    "sns.boxplot(x=heart_failure['platelets'])\n",
    "#too many outliers. Correlation with target: -0.05. Can be dropped"
   ]
  },
  {
   "cell_type": "code",
   "execution_count": 24,
   "id": "5af50580",
   "metadata": {},
   "outputs": [
    {
     "data": {
      "text/plain": [
       "<Axes: xlabel='serum_creatinine'>"
      ]
     },
     "execution_count": 24,
     "metadata": {},
     "output_type": "execute_result"
    },
    {
     "data": {
      "image/png": "[encoded data removed]",
      "text/plain": [
       "<Figure size 640x480 with 1 Axes>"
      ]
     },
     "metadata": {},
     "output_type": "display_data"
    }
   ],
   "source": [
    "sns.boxplot(x=heart_failure['serum_creatinine'])\n",
    "#many outliers but its correlation with target is 0.29. Will keep it."
   ]
  },
  {
   "cell_type": "code",
   "execution_count": 25,
   "id": "8911bf25",
   "metadata": {},
   "outputs": [
    {
     "data": {
      "text/plain": [
       "<Axes: xlabel='serum_sodium'>"
      ]
     },
     "execution_count": 25,
     "metadata": {},
     "output_type": "execute_result"
    },
    {
     "data": {
      "image/png": "[encoded data removed]",
      "text/plain": [
       "<Figure size 640x480 with 1 Axes>"
      ]
     },
     "metadata": {},
     "output_type": "display_data"
    }
   ],
   "source": [
    "sns.boxplot(x=heart_failure['serum_sodium'])\n",
    "#Acceptable no. of outliers"
   ]
  },
  {
   "cell_type": "code",
   "execution_count": 26,
   "id": "6dcacd54",
   "metadata": {},
   "outputs": [
    {
     "data": {
      "text/plain": [
       "<Axes: xlabel='time'>"
      ]
     },
     "execution_count": 26,
     "metadata": {},
     "output_type": "execute_result"
    },
    {
     "data": {
      "image/png": "[encoded data removed]",
      "text/plain": [
       "<Figure size 640x480 with 1 Axes>"
      ]
     },
     "metadata": {},
     "output_type": "display_data"
    }
   ],
   "source": [
    "sns.boxplot(x=heart_failure['time'])"
   ]
  },
  {
   "cell_type": "code",
   "execution_count": 57,
   "id": "4c24c832",
   "metadata": {},
   "outputs": [],
   "source": [
    "heart_failure_new= heart_failure.drop(columns= ['creatinine_phosphokinase','platelets'])"
   ]
  },
  {
   "cell_type": "code",
   "execution_count": 58,
   "id": "4eafe7e7",
   "metadata": {},
   "outputs": [
    {
     "name": "stdout",
     "output_type": "stream",
     "text": [
      "age                    1.600013\n",
      "anaemia                1.000000\n",
      "diabetes               1.000000\n",
      "ejection_fraction      1.269569\n",
      "high_blood_pressure    1.000000\n",
      "serum_creatinine       0.484131\n",
      "serum_sodium           1.362060\n",
      "sex                    1.000000\n",
      "smoking                1.000000\n",
      "time                   1.677759\n",
      "DEATH_EVENT            1.000000\n",
      "dtype: float64\n"
     ]
    }
   ],
   "source": [
    "Q1=heart_failure_new.quantile(0.25)\n",
    "Q3=heart_failure_new.quantile(0.75)\n",
    "IQR=Q3-Q1\n",
    "print(IQR)"
   ]
  },
  {
   "cell_type": "code",
   "execution_count": 59,
   "id": "64fec386",
   "metadata": {},
   "outputs": [
    {
     "data": {
      "text/plain": [
       "(266, 11)"
      ]
     },
     "execution_count": 59,
     "metadata": {},
     "output_type": "execute_result"
    }
   ],
   "source": [
    "heart_failure_out = heart_failure_new[~((heart_failure_new < (Q1 - 1.5 * IQR)) | (heart_failure_new > (Q3 + 1.5 * IQR))).any(axis=1)]\n",
    "heart_failure_out.shape\n",
    "\n",
    "#better.\n"
   ]
  },
  {
   "cell_type": "code",
   "execution_count": 60,
   "id": "7f581892",
   "metadata": {},
   "outputs": [],
   "source": [
    "#Sodium Creatinine has a small standard deviation but significant impact on target(0.35).Hence we may not remove the column."
   ]
  },
  {
   "cell_type": "code",
   "execution_count": 61,
   "id": "770ad0af",
   "metadata": {},
   "outputs": [
    {
     "name": "stdout",
     "output_type": "stream",
     "text": [
      "Empty DataFrame\n",
      "Columns: [age, anaemia, diabetes, ejection_fraction, high_blood_pressure, serum_creatinine, serum_sodium, sex, smoking, time, DEATH_EVENT]\n",
      "Index: []\n"
     ]
    }
   ],
   "source": [
    "duplicate_rows = heart_failure_out.duplicated()\n",
    "print(heart_failure_out[duplicate_rows])"
   ]
  },
  {
   "cell_type": "code",
   "execution_count": 62,
   "id": "74e190c5",
   "metadata": {},
   "outputs": [],
   "source": [
    "#No duplicate rows"
   ]
  },
  {
   "cell_type": "code",
   "execution_count": 63,
   "id": "95b400c3",
   "metadata": {},
   "outputs": [
    {
     "data": {
      "text/html": [
       "<div>\n",
       "<style scoped>\n",
       "    .dataframe tbody tr th:only-of-type {\n",
       "        vertical-align: middle;\n",
       "    }\n",
       "\n",
       "    .dataframe tbody tr th {\n",
       "        vertical-align: top;\n",
       "    }\n",
       "\n",
       "    .dataframe thead th {\n",
       "        text-align: right;\n",
       "    }\n",
       "</style>\n",
       "<table border=\"1\" class=\"dataframe\">\n",
       "  <thead>\n",
       "    <tr style=\"text-align: right;\">\n",
       "      <th></th>\n",
       "      <th>age</th>\n",
       "      <th>anaemia</th>\n",
       "      <th>diabetes</th>\n",
       "      <th>ejection_fraction</th>\n",
       "      <th>high_blood_pressure</th>\n",
       "      <th>serum_creatinine</th>\n",
       "      <th>serum_sodium</th>\n",
       "      <th>sex</th>\n",
       "      <th>smoking</th>\n",
       "      <th>time</th>\n",
       "      <th>DEATH_EVENT</th>\n",
       "    </tr>\n",
       "  </thead>\n",
       "  <tbody>\n",
       "    <tr>\n",
       "      <th>count</th>\n",
       "      <td>266.000000</td>\n",
       "      <td>266.000000</td>\n",
       "      <td>266.000000</td>\n",
       "      <td>266.000000</td>\n",
       "      <td>266.000000</td>\n",
       "      <td>266.000000</td>\n",
       "      <td>266.000000</td>\n",
       "      <td>266.000000</td>\n",
       "      <td>266.000000</td>\n",
       "      <td>266.000000</td>\n",
       "      <td>266.000000</td>\n",
       "    </tr>\n",
       "    <tr>\n",
       "      <th>mean</th>\n",
       "      <td>-0.019781</td>\n",
       "      <td>0.436090</td>\n",
       "      <td>0.421053</td>\n",
       "      <td>0.000878</td>\n",
       "      <td>0.357143</td>\n",
       "      <td>-0.258380</td>\n",
       "      <td>0.102102</td>\n",
       "      <td>0.657895</td>\n",
       "      <td>0.327068</td>\n",
       "      <td>0.056941</td>\n",
       "      <td>0.285714</td>\n",
       "    </tr>\n",
       "    <tr>\n",
       "      <th>std</th>\n",
       "      <td>1.011136</td>\n",
       "      <td>0.496833</td>\n",
       "      <td>0.494659</td>\n",
       "      <td>0.968693</td>\n",
       "      <td>0.480061</td>\n",
       "      <td>0.319343</td>\n",
       "      <td>0.847388</td>\n",
       "      <td>0.475309</td>\n",
       "      <td>0.470027</td>\n",
       "      <td>0.995279</td>\n",
       "      <td>0.452606</td>\n",
       "    </tr>\n",
       "    <tr>\n",
       "      <th>min</th>\n",
       "      <td>-1.754448</td>\n",
       "      <td>0.000000</td>\n",
       "      <td>0.000000</td>\n",
       "      <td>-2.038387</td>\n",
       "      <td>0.000000</td>\n",
       "      <td>-0.865509</td>\n",
       "      <td>-2.639086</td>\n",
       "      <td>0.000000</td>\n",
       "      <td>0.000000</td>\n",
       "      <td>-1.629502</td>\n",
       "      <td>0.000000</td>\n",
       "    </tr>\n",
       "    <tr>\n",
       "      <th>25%</th>\n",
       "      <td>-0.912335</td>\n",
       "      <td>0.000000</td>\n",
       "      <td>0.000000</td>\n",
       "      <td>-0.684180</td>\n",
       "      <td>0.000000</td>\n",
       "      <td>-0.478205</td>\n",
       "      <td>-0.368986</td>\n",
       "      <td>0.000000</td>\n",
       "      <td>0.000000</td>\n",
       "      <td>-0.674470</td>\n",
       "      <td>0.000000</td>\n",
       "    </tr>\n",
       "    <tr>\n",
       "      <th>50%</th>\n",
       "      <td>-0.070223</td>\n",
       "      <td>0.000000</td>\n",
       "      <td>0.000000</td>\n",
       "      <td>-0.007077</td>\n",
       "      <td>0.000000</td>\n",
       "      <td>-0.284552</td>\n",
       "      <td>0.085034</td>\n",
       "      <td>1.000000</td>\n",
       "      <td>0.000000</td>\n",
       "      <td>-0.132425</td>\n",
       "      <td>0.000000</td>\n",
       "    </tr>\n",
       "    <tr>\n",
       "      <th>75%</th>\n",
       "      <td>0.771889</td>\n",
       "      <td>1.000000</td>\n",
       "      <td>1.000000</td>\n",
       "      <td>0.585389</td>\n",
       "      <td>1.000000</td>\n",
       "      <td>-0.090900</td>\n",
       "      <td>0.766064</td>\n",
       "      <td>1.000000</td>\n",
       "      <td>1.000000</td>\n",
       "      <td>0.987156</td>\n",
       "      <td>1.000000</td>\n",
       "    </tr>\n",
       "    <tr>\n",
       "      <th>max</th>\n",
       "      <td>2.877170</td>\n",
       "      <td>1.000000</td>\n",
       "      <td>1.000000</td>\n",
       "      <td>2.278147</td>\n",
       "      <td>1.000000</td>\n",
       "      <td>0.683709</td>\n",
       "      <td>2.582144</td>\n",
       "      <td>1.000000</td>\n",
       "      <td>1.000000</td>\n",
       "      <td>1.997038</td>\n",
       "      <td>1.000000</td>\n",
       "    </tr>\n",
       "  </tbody>\n",
       "</table>\n",
       "</div>"
      ],
      "text/plain": [
       "              age     anaemia    diabetes  ejection_fraction  \\\n",
       "count  266.000000  266.000000  266.000000         266.000000   \n",
       "mean    -0.019781    0.436090    0.421053           0.000878   \n",
       "std      1.011136    0.496833    0.494659           0.968693   \n",
       "min     -1.754448    0.000000    0.000000          -2.038387   \n",
       "25%     -0.912335    0.000000    0.000000          -0.684180   \n",
       "50%     -0.070223    0.000000    0.000000          -0.007077   \n",
       "75%      0.771889    1.000000    1.000000           0.585389   \n",
       "max      2.877170    1.000000    1.000000           2.278147   \n",
       "\n",
       "       high_blood_pressure  serum_creatinine  serum_sodium         sex  \\\n",
       "count           266.000000        266.000000    266.000000  266.000000   \n",
       "mean              0.357143         -0.258380      0.102102    0.657895   \n",
       "std               0.480061          0.319343      0.847388    0.475309   \n",
       "min               0.000000         -0.865509     -2.639086    0.000000   \n",
       "25%               0.000000         -0.478205     -0.368986    0.000000   \n",
       "50%               0.000000         -0.284552      0.085034    1.000000   \n",
       "75%               1.000000         -0.090900      0.766064    1.000000   \n",
       "max               1.000000          0.683709      2.582144    1.000000   \n",
       "\n",
       "          smoking        time  DEATH_EVENT  \n",
       "count  266.000000  266.000000   266.000000  \n",
       "mean     0.327068    0.056941     0.285714  \n",
       "std      0.470027    0.995279     0.452606  \n",
       "min      0.000000   -1.629502     0.000000  \n",
       "25%      0.000000   -0.674470     0.000000  \n",
       "50%      0.000000   -0.132425     0.000000  \n",
       "75%      1.000000    0.987156     1.000000  \n",
       "max      1.000000    1.997038     1.000000  "
      ]
     },
     "execution_count": 63,
     "metadata": {},
     "output_type": "execute_result"
    }
   ],
   "source": [
    "heart_failure_out.describe()"
   ]
  },
  {
   "cell_type": "code",
   "execution_count": 64,
   "id": "7ed2de16",
   "metadata": {},
   "outputs": [
    {
     "data": {
      "image/png": "[encoded data removed]",
      "text/plain": [
       "<Figure size 640x480 with 1 Axes>"
      ]
     },
     "metadata": {},
     "output_type": "display_data"
    }
   ],
   "source": [
    "plt.hist(heart_failure_out['DEATH_EVENT'], bins=20)\n",
    "plt.xlabel('DEATH_EVENT')\n",
    "plt.ylabel('Frequency')\n",
    "plt.title('Histogram of Death Events')\n",
    "plt.show()"
   ]
  },
  {
   "cell_type": "code",
   "execution_count": null,
   "id": "483e551a",
   "metadata": {},
   "outputs": [],
   "source": [
    "#Resampling required."
   ]
  },
  {
   "cell_type": "code",
   "execution_count": 65,
   "id": "ca6263c6",
   "metadata": {},
   "outputs": [
    {
     "name": "stdout",
     "output_type": "stream",
     "text": [
      "Requirement already satisfied: imbalanced-learn in c:\\users\\dines\\anaconda3\\lib\\site-packages (0.12.3)\n",
      "Requirement already satisfied: numpy>=1.17.3 in c:\\users\\dines\\anaconda3\\lib\\site-packages (from imbalanced-learn) (1.24.3)\n",
      "Requirement already satisfied: scipy>=1.5.0 in c:\\users\\dines\\anaconda3\\lib\\site-packages (from imbalanced-learn) (1.11.1)\n",
      "Requirement already satisfied: scikit-learn>=1.0.2 in c:\\users\\dines\\anaconda3\\lib\\site-packages (from imbalanced-learn) (1.3.0)\n",
      "Requirement already satisfied: joblib>=1.1.1 in c:\\users\\dines\\anaconda3\\lib\\site-packages (from imbalanced-learn) (1.2.0)\n",
      "Requirement already satisfied: threadpoolctl>=2.0.0 in c:\\users\\dines\\anaconda3\\lib\\site-packages (from imbalanced-learn) (2.2.0)\n"
     ]
    }
   ],
   "source": [
    "!pip install imbalanced-learn"
   ]
  },
  {
   "cell_type": "code",
   "execution_count": 66,
   "id": "d88796da",
   "metadata": {},
   "outputs": [],
   "source": [
    "from imblearn.over_sampling import SMOTE\n"
   ]
  },
  {
   "cell_type": "code",
   "execution_count": 67,
   "id": "65536f4c",
   "metadata": {},
   "outputs": [],
   "source": [
    "y = heart_failure_out['DEATH_EVENT']\n",
    "X = heart_failure_out.drop(columns=['DEATH_EVENT'])\n",
    "X_train, X_test, y_train, y_test = train_test_split(X, y, test_size=0.2, random_state=42)"
   ]
  },
  {
   "cell_type": "code",
   "execution_count": 68,
   "id": "9af3cb25",
   "metadata": {},
   "outputs": [
    {
     "name": "stdout",
     "output_type": "stream",
     "text": [
      "Original dataset shape: DEATH_EVENT\n",
      "0    190\n",
      "1     76\n",
      "Name: count, dtype: int64\n",
      "Resampled dataset shape: DEATH_EVENT\n",
      "1    152\n",
      "0    152\n",
      "Name: count, dtype: int64\n"
     ]
    }
   ],
   "source": [
    "smote = SMOTE(random_state=42)\n",
    "X_train_resampled, y_train_resampled = smote.fit_resample(X_train, y_train)\n",
    "\n",
    "print(f'Original dataset shape: {y.value_counts()}')\n",
    "print(f'Resampled dataset shape: {pd.Series(y_train_resampled).value_counts()}')"
   ]
  },
  {
   "cell_type": "code",
   "execution_count": 69,
   "id": "757550cd",
   "metadata": {},
   "outputs": [
    {
     "name": "stdout",
     "output_type": "stream",
     "text": [
      "Accuracy: 0.8333333333333334\n",
      "Classification Report:\n",
      "               precision    recall  f1-score   support\n",
      "\n",
      "           0       0.91      0.84      0.88        38\n",
      "           1       0.68      0.81      0.74        16\n",
      "\n",
      "    accuracy                           0.83        54\n",
      "   macro avg       0.80      0.83      0.81        54\n",
      "weighted avg       0.85      0.83      0.84        54\n",
      "\n",
      "Confusion Matrix:\n",
      " [[32  6]\n",
      " [ 3 13]]\n"
     ]
    }
   ],
   "source": [
    "from sklearn.metrics import accuracy_score, classification_report, confusion_matrix\n",
    "model = LogisticRegression()\n",
    "model.fit(X_train_resampled, y_train_resampled)\n",
    "y_pred = model.predict(X_test)\n",
    "print(\"Accuracy:\", accuracy_score(y_test, y_pred))\n",
    "print(\"Classification Report:\\n\", classification_report(y_test, y_pred))\n",
    "print(\"Confusion Matrix:\\n\", confusion_matrix(y_test, y_pred))\n",
    "\n"
   ]
  },
  {
   "cell_type": "code",
   "execution_count": 70,
   "id": "1f620b4e",
   "metadata": {},
   "outputs": [],
   "source": [
    "#Uneven distribution of target data(Imbalanced distribution)\n",
    "import xgboost as xgb\n",
    "from sklearn.model_selection import train_test_split\n",
    "\n"
   ]
  },
  {
   "cell_type": "code",
   "execution_count": 71,
   "id": "ba2b946e",
   "metadata": {},
   "outputs": [
    {
     "name": "stdout",
     "output_type": "stream",
     "text": [
      "Accuracy: 0.8148148148148148\n",
      "Classification Report:\n",
      "               precision    recall  f1-score   support\n",
      "\n",
      "           0       0.82      0.95      0.88        38\n",
      "           1       0.80      0.50      0.62        16\n",
      "\n",
      "    accuracy                           0.81        54\n",
      "   macro avg       0.81      0.72      0.75        54\n",
      "weighted avg       0.81      0.81      0.80        54\n",
      "\n",
      "Confusion Matrix:\n",
      " [[36  2]\n",
      " [ 8  8]]\n"
     ]
    }
   ],
   "source": [
    "model = xgb.XGBClassifier()\n",
    "model.fit(X_train, y_train)\n",
    "y_pred = model.predict(X_test)\n",
    "print(\"Accuracy:\", accuracy_score(y_test, y_pred))\n",
    "print(\"Classification Report:\\n\", classification_report(y_test, y_pred))\n",
    "print(\"Confusion Matrix:\\n\", confusion_matrix(y_test, y_pred))\n"
   ]
  },
  {
   "cell_type": "code",
   "execution_count": null,
   "id": "a641b1c8",
   "metadata": {},
   "outputs": [],
   "source": [
    "#Completed"
   ]
  },
  {
   "cell_type": "code",
   "execution_count": null,
   "id": "e958fb14",
   "metadata": {},
   "outputs": [],
   "source": [
    "#Let's say we also remove serum_creatinine. Let's see what happens"
   ]
  },
  {
   "cell_type": "code",
   "execution_count": 75,
   "id": "a83bb172",
   "metadata": {},
   "outputs": [],
   "source": [
    "heart_failure_new_exp = heart_failure.drop(columns = ['creatinine_phosphokinase','platelets','serum_creatinine'])"
   ]
  },
  {
   "cell_type": "code",
   "execution_count": 76,
   "id": "c602b1be",
   "metadata": {},
   "outputs": [
    {
     "name": "stdout",
     "output_type": "stream",
     "text": [
      "age                    1.600013\n",
      "anaemia                1.000000\n",
      "diabetes               1.000000\n",
      "ejection_fraction      1.269569\n",
      "high_blood_pressure    1.000000\n",
      "serum_sodium           1.362060\n",
      "sex                    1.000000\n",
      "smoking                1.000000\n",
      "time                   1.677759\n",
      "DEATH_EVENT            1.000000\n",
      "dtype: float64\n"
     ]
    },
    {
     "data": {
      "text/plain": [
       "(293, 10)"
      ]
     },
     "execution_count": 76,
     "metadata": {},
     "output_type": "execute_result"
    }
   ],
   "source": [
    "Q1 = heart_failure_new_exp.quantile(0.25)\n",
    "Q3 = heart_failure_new_exp.quantile(0.75)\n",
    "IQR = Q3 - Q1\n",
    "print(IQR)\n",
    "heart_failure_out = heart_failure_new_exp[~((heart_failure_new_exp < (Q1 - 1.5 * IQR)) | (heart_failure_new_exp > (Q3 + 1.5 * IQR))).any(axis=1)]\n",
    "heart_failure_out.shape\n"
   ]
  },
  {
   "cell_type": "code",
   "execution_count": null,
   "id": "aa751ba1",
   "metadata": {},
   "outputs": [],
   "source": [
    "#Now number of outliers decreased and lot of data is saved. But an important feature is lost"
   ]
  },
  {
   "cell_type": "code",
   "execution_count": 78,
   "id": "ea35e7b2",
   "metadata": {},
   "outputs": [
    {
     "name": "stdout",
     "output_type": "stream",
     "text": [
      "Original dataset shape: DEATH_EVENT\n",
      "0    201\n",
      "1     92\n",
      "Name: count, dtype: int64\n",
      "Resampled dataset shape: DEATH_EVENT\n",
      "0    165\n",
      "1    165\n",
      "Name: count, dtype: int64\n"
     ]
    }
   ],
   "source": [
    "y = heart_failure_out['DEATH_EVENT']\n",
    "X = heart_failure_out.drop(columns=['DEATH_EVENT'])\n",
    "X_train, X_test, y_train, y_test = train_test_split(X, y, test_size=0.2, random_state=42)\n",
    "smote = SMOTE(random_state=42)\n",
    "X_train_resampled, y_train_resampled = smote.fit_resample(X_train, y_train)\n",
    "\n",
    "print(f'Original dataset shape: {y.value_counts()}')\n",
    "print(f'Resampled dataset shape: {pd.Series(y_train_resampled).value_counts()}')\n"
   ]
  },
  {
   "cell_type": "code",
   "execution_count": 79,
   "id": "84572794",
   "metadata": {},
   "outputs": [
    {
     "name": "stdout",
     "output_type": "stream",
     "text": [
      "Accuracy: 0.7627118644067796\n",
      "Classification Report:\n",
      "               precision    recall  f1-score   support\n",
      "\n",
      "           0       0.79      0.83      0.81        36\n",
      "           1       0.71      0.65      0.68        23\n",
      "\n",
      "    accuracy                           0.76        59\n",
      "   macro avg       0.75      0.74      0.75        59\n",
      "weighted avg       0.76      0.76      0.76        59\n",
      "\n",
      "Confusion Matrix:\n",
      " [[30  6]\n",
      " [ 8 15]]\n"
     ]
    }
   ],
   "source": [
    "from sklearn.metrics import accuracy_score, classification_report, confusion_matrix\n",
    "model = LogisticRegression()\n",
    "model.fit(X_train_resampled, y_train_resampled)\n",
    "y_pred = model.predict(X_test)\n",
    "print(\"Accuracy:\", accuracy_score(y_test, y_pred))\n",
    "print(\"Classification Report:\\n\", classification_report(y_test, y_pred))\n",
    "print(\"Confusion Matrix:\\n\", confusion_matrix(y_test, y_pred))\n"
   ]
  },
  {
   "cell_type": "code",
   "execution_count": 80,
   "id": "b59b5186",
   "metadata": {},
   "outputs": [
    {
     "name": "stdout",
     "output_type": "stream",
     "text": [
      "Accuracy: 0.864406779661017\n",
      "Classification Report:\n",
      "               precision    recall  f1-score   support\n",
      "\n",
      "           0       0.89      0.89      0.89        36\n",
      "           1       0.83      0.83      0.83        23\n",
      "\n",
      "    accuracy                           0.86        59\n",
      "   macro avg       0.86      0.86      0.86        59\n",
      "weighted avg       0.86      0.86      0.86        59\n",
      "\n",
      "Confusion Matrix:\n",
      " [[32  4]\n",
      " [ 4 19]]\n"
     ]
    }
   ],
   "source": [
    "model = xgb.XGBClassifier()\n",
    "model.fit(X_train, y_train)\n",
    "y_pred = model.predict(X_test)\n",
    "print(\"Accuracy:\", accuracy_score(y_test, y_pred))\n",
    "print(\"Classification Report:\\n\", classification_report(y_test, y_pred))\n",
    "print(\"Confusion Matrix:\\n\", confusion_matrix(y_test, y_pred))"
   ]
  },
  {
   "cell_type": "code",
   "execution_count": null,
   "id": "77e1dc1f",
   "metadata": {},
   "outputs": [],
   "source": [
    "#logistic regression model is more reliable here since XGBClassifier focuses more on balancing the data.\n",
    "#According to our prediction Accuracy of logistic regression model dropped (76%).\n",
    "#Hence we must include serum_creatinine feature.Our previous model was correct."
   ]
  },
  {
   "cell_type": "code",
   "execution_count": null,
   "id": "47f2b25a",
   "metadata": {},
   "outputs": [],
   "source": [
    "#Doubt: Model without resampling is giving more accuracy, then should we drop resampling here?"
   ]
  }
 ],
 "metadata": {
  "kernelspec": {
   "display_name": "Python 3 (ipykernel)",
   "language": "python",
   "name": "python3"
  },
  "language_info": {
   "codemirror_mode": {
    "name": "ipython",
    "version": 3
   },
   "file_extension": ".py",
   "mimetype": "text/x-python",
   "name": "python",
   "nbconvert_exporter": "python",
   "pygments_lexer": "ipython3",
   "version": "3.11.10"
  }
 },
 "nbformat": 4,
 "nbformat_minor": 5
}
